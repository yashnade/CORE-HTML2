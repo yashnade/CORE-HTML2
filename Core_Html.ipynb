{
  "nbformat": 4,
  "nbformat_minor": 0,
  "metadata": {
    "colab": {
      "provenance": []
    },
    "kernelspec": {
      "name": "python3",
      "display_name": "Python 3"
    },
    "language_info": {
      "name": "python"
    }
  },
  "cells": [
    {
      "cell_type": "markdown",
      "source": [
        "Q1.Build a simple webpage that displays text as shown in the below image."
      ],
      "metadata": {
        "id": "dmVpviYstVgZ"
      }
    },
    {
      "cell_type": "code",
      "source": [
        "<!DOCTYPE html>\n",
        "<html>\n",
        "<head>\n",
        "  <title>PWSKILLS Assingment no.3</title>\n",
        "</head>\n",
        "\n",
        "<body>\n",
        "<h1>assingment no.3</h1>\n",
        "\n",
        "<b>This will be bolded</b><br>\n",
        "<i>This will be bolded</i><br>\n",
        "<mark>This will be bolded</mark><br>\n",
        "<p>this is normal text<p><sup>this is sub text</sup><p>this is normal agin<p><br>\n",
        "<p>This normal text<p><sub>this is sub scripted</sub><br>\n",
        "<p>Normal text<p><small>small</small><p>text<p><br>\n",
        "<del>this is text will be deleted</del>\n",
        "\n",
        "\n",
        "\n",
        "\n",
        "\n",
        "</body>\n",
        "\n",
        "\n",
        "</html>"
      ],
      "metadata": {
        "id": "p9o1gWQhpkt4"
      },
      "execution_count": null,
      "outputs": []
    },
    {
      "cell_type": "code",
      "source": [],
      "metadata": {
        "id": "BUkg1LjctQAK"
      },
      "execution_count": null,
      "outputs": []
    },
    {
      "cell_type": "markdown",
      "source": [
        "Q2. Build a simple webpage that helps users navigate different web development-related websites. Note: On\n",
        "clicking the hyperlink the web pages should open in a new tab. Below is a reference image."
      ],
      "metadata": {
        "id": "dL0MVdBDtSrC"
      }
    },
    {
      "cell_type": "code",
      "source": [
        "<!DOCTYPE html>\n",
        "<html>\n",
        "<head>\n",
        "  <title>PWSKILLS Assingment no.3</title>\n",
        "</head>\n",
        "\n",
        "<body>\n",
        "<h1>NAVIGATE ME</h1>\n",
        "take me to <a href=\"https://pwskills.com/learn\" target=\"_blank\" > PW SKILLS</a><br>\n",
        "take me to<<a href=\"https://developer.mozilla.org/en-US/\"  target=\"blank\">MDN DOCUMENT</a><br>\n",
        "take me to<a href=\"https://www.google.co.in/\" target=\"_blank\">GOOGLE</a><br>\n",
        "\n",
        "\n",
        "\n",
        "\n",
        "\n",
        "</body>\n",
        "\n",
        "\n",
        "</html>"
      ],
      "metadata": {
        "id": "N_-q9p8tti09"
      },
      "execution_count": null,
      "outputs": []
    },
    {
      "cell_type": "markdown",
      "source": [
        "Q3. Build a simple blog web page with 3 pages home, web development, and web design. Each page must\n",
        "contain hyperlinks to other pages in the top, a heading of the page topic and a paragraph of information.\n",
        "For the home page you can add some information about yourself%"
      ],
      "metadata": {
        "id": "n-K8w4Sztlbl"
      }
    },
    {
      "cell_type": "code",
      "source": [
        "<!DOCTYPE html>\n",
        "<html lang=\"en\">\n",
        "<head>\n",
        "    <meta charset=\"UTF-8\">\n",
        "    <meta name=\"viewport\" content=\"width=device-width, initial-scale=1.0\">\n",
        "    <title>Home - My Blog</title>\n",
        "    <link rel=\"stylesheet\" href=\"styles.css\">\n",
        "</head>\n",
        "<body>\n",
        "    <h1>Welcome to My Blog</h1>\n",
        "\n",
        "    <nav>\n",
        "        <a href=\"home.html\">Home</a><br>\n",
        "        <a href=\"web-development.html\">Web Development</a><br>\n",
        "        <a href=\"web-design.html\">Web Design</a>\n",
        "    </nav>\n",
        "\n",
        "\n",
        "    <p>Hello! My name is yash nade. I am passionate about web development and  web design. This blog is where I share my knowledge and experience in these fields.</p>\n",
        "\n",
        "</body>\n",
        "</html>\n"
      ],
      "metadata": {
        "id": "ovlYPqbTwH8w"
      },
      "execution_count": null,
      "outputs": []
    },
    {
      "cell_type": "code",
      "source": [
        "<!DOCTYPE html>\n",
        "<html lang=\"en\">\n",
        "<head>\n",
        "    <meta charset=\"UTF-8\">\n",
        "    <meta name=\"viewport\" content=\"width=device-width, initial-scale=1.0\">\n",
        "    <title>Web Design</title>\n",
        "    <link rel=\"stylesheet\" href=\"styles.css\">\n",
        "</head>\n",
        "<body>\n",
        "    <h1>Web Design</h1>\n",
        "    <nav>\n",
        "        <a href=\"home.html\">Home</a><br>\n",
        "        <a href=\"web-development.html\">Web Development</a><br>\n",
        "        <a href=\"web-design.html\">Web Design</a>\n",
        "    </nav>\n",
        "\n",
        "\n",
        "    <p>Web design focuses on the visual appearance and user experience of a website. It includes layout, color schemes, typography, and responsiveness.</p>\n",
        "\n",
        "</body>\n",
        "</html>\n"
      ],
      "metadata": {
        "id": "IL07R-9BwJQB"
      },
      "execution_count": null,
      "outputs": []
    },
    {
      "cell_type": "code",
      "source": [
        "<!DOCTYPE html>\n",
        "<html lang=\"en\">\n",
        "<head>\n",
        "    <meta charset=\"UTF-8\">\n",
        "    <meta name=\"viewport\" content=\"width=device-width, initial-scale=1.0\">\n",
        "    <title>Web Development</title>\n",
        "\n",
        "</head>\n",
        "<body>\n",
        "\n",
        "    <nav>\n",
        "        <a href=\"home.html\">Home</a><br>\n",
        "        <a href=\"web-development.html\">Web Development</a><br>\n",
        "        <a href=\"web-design.html\">Web Design</a>\n",
        "    </nav>\n",
        "\n",
        "    <h1>Web Development</h1>\n",
        "    <p>Web development is the process of building and maintaining websites. It involves coding, programming, and using various tools such as HTML, CSS, JavaScript, and frameworks like React or Django.</p>\n",
        "\n",
        "</body>\n",
        "</html>\n"
      ],
      "metadata": {
        "id": "aVUwCm2hwP3d"
      },
      "execution_count": null,
      "outputs": []
    },
    {
      "cell_type": "markdown",
      "source": [
        "Q4. Create an ordered list of HTML tags. Each list item must include the tag name and some information about\n",
        "the tag%"
      ],
      "metadata": {
        "id": "jlW99MQ_wUUf"
      }
    },
    {
      "cell_type": "code",
      "source": [
        "<!DOCTYPE html>\n",
        "<html lang=\"en\">\n",
        "<head>\n",
        "    <meta charset=\"UTF-8\">\n",
        "    <meta name=\"viewport\" content=\"width=device-width, initial-scale=1.0\">\n",
        "    <title>HTML Tags List</title>\n",
        "</head>\n",
        "<body>\n",
        "\n",
        "    <h1>Common HTML Tags</h1>\n",
        "\n",
        "    <ol>\n",
        "        <li><strong>&lt;h1&gt;</strong> - Defines the main heading.</li>\n",
        "        <li><strong>&lt;p&gt;</strong> - Defines a paragraph.</li>\n",
        "        <li><strong>&lt;a&gt;</strong> - Creates a hyperlink.</li>\n",
        "        <li><strong>&lt;img&gt;</strong> - Displays an image.</li>\n",
        "        <li><strong>&lt;ul&gt;</strong> - Creates an unordered list.</li>\n",
        "    </ol>\n",
        "\n",
        "\n",
        "\n",
        "    </ol>\n",
        "\n",
        "</body>\n",
        "</html>\n"
      ],
      "metadata": {
        "id": "IJAU05OFxdjC"
      },
      "execution_count": null,
      "outputs": []
    },
    {
      "cell_type": "markdown",
      "source": [
        "Q5. Create a description list of full stack web development tech stack, using the <dl> tag. Each term should be\n",
        "a tech stack name and each description should be a brief explanation of what the tech stack is used for%"
      ],
      "metadata": {
        "id": "nc4aV3y6xgr8"
      }
    },
    {
      "cell_type": "code",
      "source": [
        "<!DOCTYPE html>\n",
        "<html lang=\"en\">\n",
        "<head>\n",
        "    <meta charset=\"UTF-8\">\n",
        "    <meta name=\"viewport\" content=\"width=device-width, initial-scale=1.0\">\n",
        "    <title>Full Stack Web Development Tech Stack</title>\n",
        "</head>\n",
        "<body>\n",
        "\n",
        "    <h1>Full Stack Web Development Tech Stack</h1>\n",
        "\n",
        "    <dl>\n",
        "        <dt>HTML & CSS</dt>\n",
        "        <dd>The foundation of web pages, used for structure (HTML) and styling (CSS).</dd>\n",
        "\n",
        "        <dt>JavaScript</dt>\n",
        "        <dd>A programming language that adds interactivity and dynamic behavior to web pages.</dd>\n",
        "\n",
        "        <dt>React.js / Angular / Vue.js</dt>\n",
        "        <dd>Popular front-end frameworks/libraries for building dynamic user interfaces.</dd>\n",
        "\n",
        "        <dt>Node.js</dt>\n",
        "        <dd>A JavaScript runtime for building scalable server-side applications.</dd>\n",
        "\n",
        "        <dt>Express.js</dt>\n",
        "        <dd>A minimal and flexible Node.js framework for building web applications and APIs.</dd>\n",
        "\n",
        "        <dt>MongoDB / MySQL / PostgreSQL</dt>\n",
        "        <dd>Databases used for storing and managing application data.</dd>\n",
        "\n",
        "        <dt>Git & GitHub</dt>\n",
        "        <dd>Version control system and repository hosting service for collaborative coding.</dd>\n",
        "\n",
        "        <dt>Docker</dt>\n",
        "        <dd>Containerization platform to streamline application deployment.</dd>\n",
        "    </dl>\n",
        "\n",
        "</body>\n",
        "</html>\n"
      ],
      "metadata": {
        "id": "gNVpoIvCyGca"
      },
      "execution_count": null,
      "outputs": []
    },
    {
      "cell_type": "markdown",
      "source": [
        "Q6. Create an ordered list of the full stack web development tech stack HTML, CSS, and JS. For each tech\n",
        "stack, create a table that lists the tech stack name, its primary use cases, and some key features or\n",
        "benefits. Below is a reference image."
      ],
      "metadata": {
        "id": "x7K92nKn4zyV"
      }
    },
    {
      "cell_type": "code",
      "source": [
        "<!DOCTYPE html>\n",
        "<html lang=\"en\">\n",
        "<head>\n",
        "    <meta charset=\"UTF-8\">\n",
        "    <meta name=\"viewport\" content=\"width=device-width, initial-scale=1.0\">\n",
        "    <title>Full Stack Web Development Tech Stack</title>\n",
        "</head>\n",
        "<body>\n",
        "\n",
        "    <h1>Full Stack Web Development Tech Stack</h1>\n",
        "\n",
        "   <ol>\n",
        "    <li>\n",
        "    <h2>HTML</h2>\n",
        "    <table border=\"1\" cellpadding=\"2\" >\n",
        "        <tr><th>Tech Stack</th>\n",
        "        <th>Primary Use Cases</th>\n",
        "    <th>Key Features/Benefits</th></tr>\n",
        "\n",
        "    <tr>\n",
        "        <td>HTML</td>\n",
        "        <td>Structure of web pages</td>\n",
        "        <td><ol>\n",
        "            <li> markup language </li>\n",
        "            <li> Supports multimedia (images, audio, video) </li>\n",
        "            <li> Works with CSS and JavaScript</li>\n",
        "        </ol></td>\n",
        "    </tr>\n",
        "\n",
        "    </table>\n",
        "    </li>\n",
        "<li>\n",
        "    <h3>CSS</h3>\n",
        "    <table border=\"1\" cellpading=\"2\">\n",
        "        <tr>\n",
        "            <th>Tech Stack</th>\n",
        "            <th>Primary Use Cases</th>\n",
        "            <th>Key Features/Benefits</th>\n",
        "        </tr>\n",
        "        <tr>\n",
        "            <td>CSS</td>\n",
        "            <td>Styling and layout of web pages<</td>\n",
        "            <td><ol>\n",
        "                <li>Controls colors, fonts, and spacing</li>\n",
        "                <li>Enables responsive design</li>\n",
        "                <li>Can be used with animations</li>\n",
        "            </ol></td>\n",
        "        </tr>\n",
        "\n",
        "\n",
        "    </table>\n",
        "</li>\n",
        "\n",
        "<li>\n",
        "    <h4>JAVASCRIPT</h4>\n",
        "    <table border=\"1\" cellpading=\"2\">\n",
        "       <tr>\n",
        "        <th>Tech Stack</th>\n",
        "        <th>Primary Use Cases</th>\n",
        "        <th>Key Features/Benefits</th>\n",
        "       </tr>\n",
        "\n",
        "       <tr>\n",
        "        <td>JavaScript</td>\n",
        "                    <td>Adds interactivity to web pages</td>\n",
        "                    <td>\n",
        "                        <ol>\n",
        "                            <li>Client-side scripting language</li>\n",
        "                            <li>Supports event-driven programming</li>\n",
        "                            <li> Works with frameworks like React and Angular</li>\n",
        "                        </ol>\n",
        "                    </td>\n",
        "       </tr>\n",
        "\n",
        "    </table>\n",
        "</li>\n",
        "\n",
        "\n",
        "   </ol>\n",
        "\n",
        "\n",
        "</body>\n",
        "</html>\n"
      ],
      "metadata": {
        "id": "-HwYHBH235bI"
      },
      "execution_count": null,
      "outputs": []
    },
    {
      "cell_type": "markdown",
      "source": [
        "Q7.<!DOCTYPE html>\n",
        "<html lang=\"en\">\n",
        "<head>\n",
        "    <meta charset=\"UTF-8\">\n",
        "    <meta name=\"viewport\" content=\"width=device-width, initial-scale=1.0\">\n",
        "    <title>Table of Contents</title>\n",
        "</head>\n",
        "<body>\n",
        "\n",
        "    <h1>📖 Table of Contents</h1>\n",
        "\n",
        "    <ul>\n",
        "        <li><b>Chapter 1: Introduction</b>\n",
        "            <ul>\n",
        "                <li><i>1.1 Overview of the Topic</i></li>\n",
        "                <li><i>1.2 Importance of the Subject</i></li>\n",
        "                <li><i>1.3 Scope of Discussion</i></li>\n",
        "            </ul>\n",
        "        </li>\n",
        "\n",
        "        <li><b>Chapter 2: Fundamentals</b>\n",
        "            <ul>\n",
        "                <li><i>2.1 Basic Concepts</i></li>\n",
        "                <li><i>2.2 Key Terminologies</i>\n",
        "                    <ul>\n",
        "                        <li><u>2.2.1 Definition of Terms</u></li>\n",
        "                        <li><u>2.2.2 Common Misconceptions</u></li>\n",
        "                    </ul>\n",
        "                </li>\n",
        "                <li><i>2.3 Practical Applications</i></li>\n",
        "            </ul>\n",
        "        </li>\n",
        "\n",
        "        <li><b>Chapter 3: Advanced Topics</b>\n",
        "            <ul>\n",
        "                <li><i>3.1 Deep Dive into Key Concepts</i></li>\n",
        "                <li><i>3.2 Case Studies</i></li>\n",
        "                <li><i>3.3 Future Trends</i></li>\n",
        "            </ul>\n",
        "        </li>\n",
        "\n",
        "        <li><b>Chapter 4: Conclusion</b>\n",
        "            <ul>\n",
        "                <li><i>4.1 Summary of Key Points</i></li>\n",
        "                <li><i>4.2 Final Thoughts</i></li>\n",
        "                <li><i>4.3 Further Reading</i></li>\n",
        "            </ul>\n",
        "        </li>\n",
        "    </ul>\n",
        "\n",
        "</body>\n",
        "</html>\n"
      ],
      "metadata": {
        "id": "Y4uEStuK4vUS"
      }
    },
    {
      "cell_type": "markdown",
      "source": [
        "Q8.  Create a table to display a conference schedule. Each row corresponds to a time slot, and each column\n",
        "corresponds to a room. Some time slots might have multiple sessions running simultaneously in different\n",
        "rooms. Utilize rowspan and colspan attributes as necessary to accommodate this complex schedule.\n",
        "(use table attribute “cellpadding” to give extra padding in each table cell )?"
      ],
      "metadata": {
        "id": "eiC0saHk5pDu"
      }
    },
    {
      "cell_type": "code",
      "source": [
        "<!DOCTYPE html>\n",
        "<html lang=\"en\">\n",
        "<head>\n",
        "    <meta charset=\"UTF-8\">\n",
        "    <meta name=\"viewport\" content=\"width=device-width, initial-scale=1.0\">\n",
        "    <title>Conference Schedule</title>\n",
        "</head>\n",
        "<body>\n",
        "\n",
        "    <h1>📅 Conference Schedule</h1>\n",
        "\n",
        "    <table border=\"1\" cellpadding=\"10\">\n",
        "        <tr>\n",
        "            <th>Time</th>\n",
        "            <th>Room A</th>\n",
        "            <th>Room B</th>\n",
        "            <th>Room C</th>\n",
        "        </tr>\n",
        "\n",
        "        <tr>\n",
        "            <td>09:00 - 10:00</td>\n",
        "            <td colspan=\"2\">Keynote Speech</td>\n",
        "            <td>Workshop 1</td>\n",
        "        </tr>\n",
        "\n",
        "        <tr>\n",
        "            <td>10:00 - 11:00</td>\n",
        "            <td>Session 1</td>\n",
        "            <td>Session 2</td>\n",
        "            <td>Session 3</td>\n",
        "        </tr>\n",
        "\n",
        "        <tr>\n",
        "            <td>11:00 - 12:00</td>\n",
        "            <td rowspan=\"2\">Panel Discussion</td>\n",
        "            <td>Session 4</td>\n",
        "            <td>Session 5</td>\n",
        "        </tr>\n",
        "\n",
        "        <tr>\n",
        "            <td>12:00 - 01:00</td>\n",
        "            <td colspan=\"2\">Networking Lunch</td>\n",
        "        </tr>\n",
        "\n",
        "        <tr>\n",
        "            <td>01:00 - 02:00</td>\n",
        "            <td>Workshop 2</td>\n",
        "            <td>Session 6</td>\n",
        "            <td>Session 7</td>\n",
        "        </tr>\n",
        "\n",
        "        <tr>\n",
        "            <td>02:00 - 03:00</td>\n",
        "            <td colspan=\"3\">Closing Ceremony</td>\n",
        "        </tr>\n",
        "    </table>\n",
        "\n",
        "</body>\n",
        "</html>\n"
      ],
      "metadata": {
        "id": "n4tosZwx5yEQ"
      },
      "execution_count": null,
      "outputs": []
    }
  ]
}